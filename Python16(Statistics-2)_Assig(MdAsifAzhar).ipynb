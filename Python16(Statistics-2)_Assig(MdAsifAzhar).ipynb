{
 "cells": [
  {
   "cell_type": "markdown",
   "metadata": {},
   "source": [
    "###### Problem Statement 1:\n",
    "###### A test is conducted which is consisting of 20 MCQs (multiple choices questions) with every MCQ having its four options out of which only one is correct. Determine the probability that a person undertaking that test has answered exactly 5 questions wrong"
   ]
  },
  {
   "cell_type": "markdown",
   "metadata": {},
   "source": [
    "Total Question (n) = 20, \n",
    "n - k = 5, \n",
    "k = 20 - 5 = 15 \n",
    "\n",
    "success probability (s)= n-k/n= 5/20  = 1/4 \n",
    "failure probability = 1 - s = 1 - 1/4 = 3/4 \n",
    "When we substitute these values in the formula for Binomial distribution we get,\n",
    "\n",
    "So, P (exactly 5 out of 20 answers incorrect) = C (20, 5) (1/4)^15 (3/4)^5\n",
    "\n",
    "→ P (5 out of 20) = (20∗19∗18∗17∗16)/(5∗4∗3∗2∗1) (1/4)^1 5 (3/4)^5\n",
    "\n",
    "= 3.426495 (approximately)\n",
    "\n",
    "Thus the required probability is 3.426495 approximately."
   ]
  },
  {
   "cell_type": "code",
   "execution_count": 14,
   "metadata": {},
   "outputs": [
    {
     "data": {
      "text/plain": [
       "3.4264958230778575e-06"
      ]
     },
     "metadata": {},
     "output_type": "display_data"
    }
   ],
   "source": [
    "import numpy as np\n",
    "import pandas as pd\n",
    "import scipy.stats as stats\n",
    "\n",
    "# Total Number of Mulitiple Choices Questions[MCQ] => n\n",
    "n = 20\n",
    "\n",
    "# MCQ having its four options out of which only one is correct Probability of giving a right answer => s\n",
    "s = 1/4\n",
    "\n",
    "# Probability that a person answers 5 questions wrong n - k = 20 - 15 = 5\n",
    "x = 5\n",
    "\n",
    "# Probability of giving a wrong answer => [1 - s = 1 - 1/4 = 3/4]\n",
    "\n",
    "# Probability p = (exactly 5 out of 20 answers incorrect) = C (20, 5) * (1/4)^15 * (3/4)^5\n",
    "# Probability p = ((20*19) ∗ (18 ∗ 17) ∗ 16) / (5 ∗ 4 ∗ 3 ∗ 2 ∗ 1) * (1/4)^1 5 * (3/4)^5\n",
    "\n",
    "# 0.0000034 (approximately)\n",
    "\n",
    "p=(20*19*18*17*16)/(5*4*3*2*1)*(1/4)**15*(3/4)**5\n",
    "display(p)\n"
   ]
  },
  {
   "cell_type": "markdown",
   "metadata": {},
   "source": [
    "###### Problem Statement 2:\n",
    "###### A die marked A to E is rolled 50 times. Find the probability of getting a “D” exactly 5 times."
   ]
  },
  {
   "cell_type": "markdown",
   "metadata": {},
   "source": [
    "Die Market A to E is rolled => n = 50,\n",
    "\n",
    "Probability to get the D exactly => k = 5,\n",
    "\n",
    "Remaining Die count => n - k = 50 -5 = 45.\n",
    "\n",
    "The probability of success (getting “D”)= s = 1/5 [A to E is 5 and D is 1 so 1/5]\n",
    "\n",
    "Hence, the probability of failure (not getting \"D\") = 1 - s = 4/5 = 0.8"
   ]
  },
  {
   "cell_type": "code",
   "execution_count": 1,
   "metadata": {},
   "outputs": [
    {
     "data": {
      "text/plain": [
       "0.2"
      ]
     },
     "metadata": {},
     "output_type": "display_data"
    }
   ],
   "source": [
    "# Die Market A to E is rolled\n",
    "n = 50\n",
    "\n",
    "# Probability to get the D exactly\n",
    "k = 5, \n",
    "\n",
    "# Remaining Die count n - k x = 50 -5 = 45.\n",
    "x = 45.\n",
    "\n",
    "#The probability of success = probability of getting a “D”  [A to E is 5 and D is 1 so 1/5]\n",
    "s = 1/5\n",
    "display(s)"
   ]
  },
  {
   "cell_type": "markdown",
   "metadata": {},
   "source": [
    "###### Problem Statement 3:\n",
    "###### Two balls are drawn at random in succession without replacement from an urn containing 4 red balls and 6 black balls. Find the probabilities of all the possible outcomes"
   ]
  },
  {
   "cell_type": "markdown",
   "metadata": {},
   "source": [
    "4 Red and 6 Black Balls => Total 10\n",
    "\n",
    "So, 10 * 9 = 90 total ways to draw two balls\n",
    "\n",
    "To Confirm the above: Possible draws: RR => 43 = 12 RB => 46 = 24 BR => 64 = 24 BB => 65 = 30\n",
    "\n",
    "Total = (RR + RB + BR + BB) => (12 + 24 + 24 + 30) => 90"
   ]
  },
  {
   "cell_type": "code",
   "execution_count": 2,
   "metadata": {},
   "outputs": [
    {
     "data": {
      "text/plain": [
       "10"
      ]
     },
     "metadata": {},
     "output_type": "display_data"
    }
   ],
   "source": [
    "# Probability of Possible Outcomes P\n",
    "# Red Balls R\n",
    "# Black Balls B\n",
    "# Total Balls T\n",
    "R = 4\n",
    "B = 6\n",
    "T = R + B\n",
    "display(T)"
   ]
  },
  {
   "cell_type": "code",
   "execution_count": 4,
   "metadata": {},
   "outputs": [
    {
     "data": {
      "text/plain": [
       "90"
      ]
     },
     "metadata": {},
     "output_type": "display_data"
    }
   ],
   "source": [
    "# No possibiblities\n",
    "# N = n*(n-1)\n",
    "N = 10*9\n",
    "display(N)"
   ]
  },
  {
   "cell_type": "code",
   "execution_count": 5,
   "metadata": {},
   "outputs": [
    {
     "data": {
      "text/plain": [
       "12"
      ]
     },
     "metadata": {},
     "output_type": "display_data"
    }
   ],
   "source": [
    "# Confirm for Total Probabilty\n",
    "# Possible outcomes for RR n and n-1\n",
    "RR = 4 * 3\n",
    "display(RR)"
   ]
  },
  {
   "cell_type": "code",
   "execution_count": 6,
   "metadata": {},
   "outputs": [
    {
     "data": {
      "text/plain": [
       "24"
      ]
     },
     "metadata": {},
     "output_type": "display_data"
    }
   ],
   "source": [
    "\n",
    "# Possible outcomes for RB Red 4, Black 6\n",
    "RB = 4 * 6\n",
    "display(RB)"
   ]
  },
  {
   "cell_type": "code",
   "execution_count": 7,
   "metadata": {},
   "outputs": [
    {
     "data": {
      "text/plain": [
       "24"
      ]
     },
     "metadata": {},
     "output_type": "display_data"
    }
   ],
   "source": [
    "# Possible outcomes for BR Red 4, Black 6\n",
    "BR = 6 * 4\n",
    "display(BR)"
   ]
  },
  {
   "cell_type": "code",
   "execution_count": 8,
   "metadata": {},
   "outputs": [
    {
     "data": {
      "text/plain": [
       "30"
      ]
     },
     "metadata": {},
     "output_type": "display_data"
    }
   ],
   "source": [
    "\n",
    "# Possible outcomes for BB n and n-1\n",
    "BB = 6 * 5\n",
    "display(BB)"
   ]
  },
  {
   "cell_type": "code",
   "execution_count": 9,
   "metadata": {},
   "outputs": [
    {
     "data": {
      "text/plain": [
       "90"
      ]
     },
     "metadata": {},
     "output_type": "display_data"
    }
   ],
   "source": [
    "# Possible outcomes P\n",
    "P = RR + RB + BR + BB\n",
    "display(P)"
   ]
  },
  {
   "cell_type": "code",
   "execution_count": null,
   "metadata": {},
   "outputs": [],
   "source": []
  }
 ],
 "metadata": {
  "kernelspec": {
   "display_name": "Python 3",
   "language": "python",
   "name": "python3"
  },
  "language_info": {
   "codemirror_mode": {
    "name": "ipython",
    "version": 3
   },
   "file_extension": ".py",
   "mimetype": "text/x-python",
   "name": "python",
   "nbconvert_exporter": "python",
   "pygments_lexer": "ipython3",
   "version": "3.6.5"
  }
 },
 "nbformat": 4,
 "nbformat_minor": 2
}
